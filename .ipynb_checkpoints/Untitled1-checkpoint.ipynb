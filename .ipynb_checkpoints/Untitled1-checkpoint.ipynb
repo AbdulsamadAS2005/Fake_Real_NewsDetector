{
 "cells": [
  {
   "cell_type": "code",
   "execution_count": 3,
   "id": "140613ad-8716-4e3d-827c-e906ea47beea",
   "metadata": {},
   "outputs": [],
   "source": [
    "import pandas as pd \n",
    "import seaborn as sb\n",
    "import matplotlib.pyplot as plt"
   ]
  },
  {
   "cell_type": "code",
   "execution_count": 4,
   "id": "21a5bea2-779c-49e4-bbfd-3ca248ec86ce",
   "metadata": {},
   "outputs": [],
   "source": [
    "Fake_news=pd.read_csv(\"Fake.csv\")\n",
    "True_news=pd.read_csv(\"True.csv\")"
   ]
  },
  {
   "cell_type": "code",
   "execution_count": null,
   "id": "568054e1-913a-4482-8149-5de983dc9a65",
   "metadata": {},
   "outputs": [],
   "source": [
    "Fake_news.head(5)"
   ]
  }
 ],
 "metadata": {
  "kernelspec": {
   "display_name": "Python 3 (ipykernel)",
   "language": "python",
   "name": "python3"
  },
  "language_info": {
   "codemirror_mode": {
    "name": "ipython",
    "version": 3
   },
   "file_extension": ".py",
   "mimetype": "text/x-python",
   "name": "python",
   "nbconvert_exporter": "python",
   "pygments_lexer": "ipython3",
   "version": "3.13.5"
  }
 },
 "nbformat": 4,
 "nbformat_minor": 5
}
